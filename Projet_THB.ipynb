{
 "cells": [
  {
   "cell_type": "markdown",
   "id": "f41375d8",
   "metadata": {},
   "source": [
    "\n",
    "# Projet thermique du bâtiment:\n",
    "# Bilan thermique d'un local cubique"
   ]
  },
  {
   "cell_type": "markdown",
   "id": "57dbb2d1",
   "metadata": {},
   "source": [
    "Nous nous proposons d'étudier un local cubique, dont quatre des faces sont composées de béton et d'une coiche d'isolant, ces faces sont exposées au rayonnement solaire. La face inférieure est en contact avec le sol, elle est également composée de béton et d'isolant. La dernière face est complètement vitrée. \n",
    "\n",
    "Pour se lancer dans notre étude, nous nous proposons de faire quelques hypothèses simplificatrices:\n",
    "- sol recevant uniquement un rayonnement IR correspondant à l'échuffement du sol \n",
    "- on ne discrétise pas l'épaisseur de la vitre puisque la variation de lambda n'est pas significative au vu de l'épaisseur de la vitre \n",
    "- on considère uniquement un rayonnement solaire reçu en CLO\n",
    "- les rayonnements entre les faces du cube sont également considérés en GLO uniquement\n"
   ]
  },
  {
   "cell_type": "markdown",
   "id": "d025e533",
   "metadata": {},
   "source": [
    "## I - Modélisation des différentes faces"
   ]
  },
  {
   "cell_type": "markdown",
   "id": "43722300",
   "metadata": {},
   "source": [
    "Afin d'obtenir le modèle le plus précis possible, on décide de discrétiser nos murs de béton en les divisant en couches de béton et 2 couches d'isolant. Cela nous permet de gagner en précision afin de modéliser l'évolution de la température au sein du mur. \n",
    "\n",
    "Nous pouvons donc modéliser le mur par un circuit électrique équivalent, dans lequel chaque noeud correspond à une température, plus précisément à la température au milieu de chaque couche. \n",
    "On distinque plusieurs éléments:\n",
    "- les résistances modélisant le phénomène de **conduction** au sein du mur : \n",
    "\n",
    "$$R_{cd} = \\dfrac{e}{\\lambda S}$$\n",
    "\n",
    "- les résistances modélisant le phénomène de **convection** à la frontière entre le mur et l'extérieur:\n",
    "\n",
    "$$R_{cv} = \\dfrac{1}{h S}$$\n",
    "\n",
    "- les résistances représentant les **échanges radiatifs** de chaleur entre deux faces de notre cube (1 et 2):\n",
    "\n",
    "$$ R = R_a + R_b + R_c$$\n",
    "\n",
    "$$ {R_a}^{-1} = 4 \\sigma \\cdot {\\bar{\\theta}}^3 \\cdot \\dfrac{\\epsilon_1}{1-\\epsilon_1} \\cdot S_1  \\qquad\n",
    "{R_b}^{-1} = 4 \\sigma \\cdot {\\bar{\\theta}}^3 \\cdot F_{1-2} \\cdot S_1 \\qquad\n",
    "{R_c}^{-1} = 4 \\sigma \\cdot {\\bar{\\theta}}^3 \\cdot \\dfrac{\\epsilon_2}{1-\\epsilon_2} \\cdot S_2    $$\n",
    "\n",
    "- les condensateurs, qui modélisent le pouvoir qu'à le mur à **stocker la chaleur**: \n",
    "\n",
    "$$ C = \\rho \\cdot c \\cdot V $$\n",
    "\n",
    "- les sources de tension permettant de fixer l'extérieur du mur à la **température extérieure** <br> <br>\n",
    "\n",
    "- les sources de courant permettant de modéliser l'apport d'un flux, ici le flux lié au **rayonnement solaire**:\n",
    "\n",
    "$$ \\Phi = \\alpha \\cdot S \\cdot E$$\n",
    "\n",
    "On peut modéliser chaque face de notre cube grâce à ces éléments. "
   ]
  },
  {
   "cell_type": "markdown",
   "id": "ee509ad9",
   "metadata": {},
   "source": [
    "### Nomenclature\n",
    "\n",
    "- **e** : épaisseur ($m$)\n",
    "- **$\\lambda$** : conductivité ($W/m.K$)\n",
    "- **S** : surface ($m^2$)\n",
    "- **h** : coefficient convectif ($W/m^2 \\cdot K$)\n",
    "- **$\\theta$** : température ($K$)\n",
    "- **$F_{1-2}$** : facteur de forme entre les faces 1 et 2 ($\\emptyset$)\n",
    "- **$\\epsilon$** : emissivité ($\\emptyset$)\n",
    "- **$\\sigma$** : Constante de Boltzmann ($5.67 \\cdot 10^{-8}  W/m^2 \\cdot K^4$)\n",
    "- **$\\rho$** : masse volumique ($kg/m^3$)\n",
    "- **c** : capacité calorifique massique ($J/kg \\cdot K$)"
   ]
  },
  {
   "cell_type": "markdown",
   "id": "c26ba2b0",
   "metadata": {},
   "source": [
    "![Discrétisation mur](02_RC_model.svg)\n"
   ]
  },
  {
   "cell_type": "code",
   "execution_count": 180,
   "id": "58c0c00a",
   "metadata": {},
   "outputs": [],
   "source": [
    "#définition des variables\n",
    "\n",
    "hc_ext = 2+4*2 #W/m^2.K\n",
    "hc_int = 4 #W/m^2.K\n",
    "S_paroi = 3*3 #m^2\n",
    "T_ext = 11+273.15 #K\n",
    "T_sol = 5+273.15 #K\n",
    "\n",
    "λ_beton = 2 #W/m.K\n",
    "e_beton = 0.2 #m\n",
    "V_beton = S_paroi * e_beton\n",
    "rho_c_beton = 2.5e6 #J/K.m^3\n",
    "\n",
    "λ_isolant = 0.04 #W/m.K\n",
    "e_isolant = 0.08 #m\n",
    "V_isolant = S_paroi * e_isolant\n",
    "rho_c_isolant = 2.0e4 #J/K.m^3\n",
    "\n",
    "λ_vitre = 1.2 #W/m.K\n",
    "e_vitre = 5e-3 #m\n",
    "\n",
    "α_GLO = 0.9\n",
    "α_CLO = 0.8\n",
    "\n",
    "E_diffus = 100 #W/m^2\n",
    "E_horizontal = 300 #W/m^2\n",
    "P_chauffage = 1000 #W\n",
    "\n",
    "ɛ_i = 0.92 \n",
    "ɛ_v = 0.89\n",
    "\n",
    "σ = 5.67e-8 #W/m^2.K^4\n",
    "\n",
    "Q_vex = 30 #m^3/h\n",
    "rho_air = 1.225 #kg/m^3\n",
    "c_air = 1000 #J/K.kg\n"
   ]
  },
  {
   "cell_type": "markdown",
   "id": "6eb65974",
   "metadata": {},
   "source": [
    "<td style=\"background-color:lightblue\">\n",
    "\n",
    "\n",
    "# Code: Matrice A"
   ]
  },
  {
   "cell_type": "code",
   "execution_count": 181,
   "id": "36046f20",
   "metadata": {},
   "outputs": [],
   "source": [
    "import numpy as np\n",
    "import itertools as it\n",
    "\n",
    "np.set_printoptions(threshold=np.inf)\n",
    "\n",
    "A = np.zeros((64,43))\n",
    "central = []\n",
    "\n",
    "#Faces béton-isolant\n",
    "\n",
    "for j in range (0,5):\n",
    "    j1 = j*9\n",
    "    j2 = j*8\n",
    "    A[j1,j2] = 1\n",
    "    for i in range (1,8):\n",
    "        A[j1+i,j2+i] = 1\n",
    "        A[j1+i,j2+i-1] = -1\n",
    "    A[j1+8,j2+7] = -1\n",
    "    A[j1+8,42] = 1\n",
    "    central.append(j2+7)\n",
    "    \n",
    "# Face vitrée \n",
    "\n",
    "A[45,40] = 1\n",
    "A[46,40] = -1\n",
    "A[46,41] = 1 \n",
    "A[47,41] = -1\n",
    "A[47,42] = 1\n",
    "central.append(41)\n",
    "central_com = list(it.combinations(central,2))\n",
    "A[63,42] = 1\n",
    "#Echanges radiatifs\n",
    "\n",
    "for i in range (0,15):\n",
    "    A[48+i,central_com[i][0]] = -1\n",
    "    A[48+i,central_com[i][1]] = 1\n",
    "        "
   ]
  },
  {
   "cell_type": "markdown",
   "id": "25d3ae53",
   "metadata": {},
   "source": [
    "<td style=\"background-color:lightblue\">\n",
    "\n",
    "\n",
    "# Code: Matrice G"
   ]
  },
  {
   "cell_type": "code",
   "execution_count": 182,
   "id": "6bb5c695",
   "metadata": {},
   "outputs": [],
   "source": [
    "R = []\n",
    "G = np.zeros((64,64))\n",
    "\n",
    "R_A1 = 1/(hc_ext*S_paroi)\n",
    "R_A2 = e_beton/(8*λ_beton*S_paroi)\n",
    "R_A3 = e_beton/(4*λ_beton*S_paroi)\n",
    "R_A4 = e_beton/(4*λ_beton*S_paroi)\n",
    "R_A5 = e_beton/(4*λ_beton*S_paroi)\n",
    "R_A6 = e_isolant/(4*λ_isolant*S_paroi)+e_beton/(8*λ_beton*S_paroi)\n",
    "R_A7 = e_isolant/(2*λ_isolant*S_paroi)\n",
    "R_A8 = e_isolant/(4*λ_isolant*S_paroi)\n",
    "R_A9 = 1/(hc_int*S_paroi)\n",
    "\n",
    "for i in range (5):\n",
    "    R.append(R_A1)\n",
    "    R.append(R_A2)\n",
    "    R.append(R_A3)\n",
    "    R.append(R_A4)\n",
    "    R.append(R_A5)\n",
    "    R.append(R_A6)\n",
    "    R.append(R_A7)\n",
    "    R.append(R_A8)\n",
    "    R.append(R_A9)\n",
    "\n",
    "\n",
    "R_V2 = e_vitre/(λ_vitre*S_paroi)\n",
    "\n",
    "R.append(R_A1)\n",
    "R.append(R_V2)\n",
    "R.append(R_A9)\n",
    "\n",
    "R_VMC = (1-0.9)*Q_vex*rho_air*c_air/60\n",
    "\n",
    "for i in range(15):\n",
    "    R.append(1)\n",
    "\n",
    "for i in range (len(R)):\n",
    "    G[i,i] = R[i]**(-1)\n",
    "    "
   ]
  },
  {
   "cell_type": "markdown",
   "id": "72802211",
   "metadata": {},
   "source": [
    "<td style=\"background-color:lightblue\">\n",
    "\n",
    "\n",
    "# Code Matrice C"
   ]
  },
  {
   "cell_type": "code",
   "execution_count": 183,
   "id": "944854d9",
   "metadata": {},
   "outputs": [],
   "source": [
    "C_beton = S_paroi*e_beton*rho_c_beton\n",
    "C_isolant = S_paroi*e_isolant*rho_c_isolant\n",
    "\n",
    "C_liste = []\n",
    "\n",
    "for i in range(5):\n",
    "    C_liste.append(0)\n",
    "    for j in range (4):\n",
    "        C_liste.append(C_beton/4)\n",
    "    for j in range (2):\n",
    "        C_liste.append(C_isolant/2)\n",
    "    C_liste.append(0)\n",
    "    \n",
    "for i in range(3):\n",
    "    C_liste.append(0)\n",
    "    \n",
    "C = np.zeros((43,43))\n",
    "\n",
    "for i in range (len(C_liste)):\n",
    "    C[i,i] = C_liste[i]\n",
    "    "
   ]
  },
  {
   "cell_type": "markdown",
   "id": "64448deb",
   "metadata": {},
   "source": [
    "<td style=\"background-color:lightblue\">\n",
    "\n",
    "\n",
    "# Code: Matrice B"
   ]
  },
  {
   "cell_type": "code",
   "execution_count": 184,
   "id": "554a04cd",
   "metadata": {},
   "outputs": [],
   "source": [
    "B = np.zeros(64)\n",
    "\n",
    "for i in range(4):\n",
    "    B[9*i] = T_ext \n",
    "    \n",
    "B[36] = T_sol\n",
    "\n",
    "B[45] = T_ext\n",
    "\n",
    "B[63] = T_ext"
   ]
  },
  {
   "cell_type": "markdown",
   "id": "7c491a7c",
   "metadata": {},
   "source": [
    "<td style=\"background-color:lightblue\">\n",
    "\n",
    "\n",
    "# Code: Matrice f"
   ]
  },
  {
   "cell_type": "code",
   "execution_count": 185,
   "id": "e9dc5cf8",
   "metadata": {
    "scrolled": true
   },
   "outputs": [
    {
     "name": "stdout",
     "output_type": "stream",
     "text": [
      "[ 810.    0.    0.    0.    0.    0.    0.    0.  810.    0.    0.    0.\n",
      "    0.    0.    0.    0.  810.    0.    0.    0.    0.    0.    0.    0.\n",
      "  810.    0.    0.    0.    0.    0.    0.    0.  600.    0.    0.    0.\n",
      "    0.    0.    0.    0. 2160.    0. 1000.]\n"
     ]
    }
   ],
   "source": [
    "f_1 = α_GLO*E_diffus*S_paroi\n",
    "f_2 = α_GLO*E_diffus*S_paroi\n",
    "f_3 = α_GLO*E_diffus*S_paroi\n",
    "f_4 = α_GLO*E_diffus*S_paroi\n",
    "f_5 = 600\n",
    "f_6 = α_CLO*E_horizontal*S_paroi\n",
    "f_7 = P_chauffage\n",
    "\n",
    "f = np.zeros(43)\n",
    "\n",
    "f[0] = f_1\n",
    "f[8] = f_2\n",
    "f[16] = f_3\n",
    "f[24] = f_4\n",
    "f[32] = f_5\n",
    "f[40] = f_6\n",
    "f[42] = f_7\n",
    "\n",
    "print(f)"
   ]
  },
  {
   "cell_type": "markdown",
   "id": "5bbfaa46",
   "metadata": {},
   "source": [
    "<td style=\"background-color:lightblue\">\n",
    "\n",
    "\n",
    "# Calcul de la température aux différents points"
   ]
  },
  {
   "cell_type": "code",
   "execution_count": 186,
   "id": "2b423acd",
   "metadata": {},
   "outputs": [
    {
     "name": "stdout",
     "output_type": "stream",
     "text": [
      "[21.23009653 21.3838586  21.69138273 21.99890686 22.306431   28.61067572\n",
      " 40.91164103 47.06212368 21.23009653 21.3838586  21.69138273 21.99890686\n",
      " 22.306431   28.61067572 40.91164103 47.06212368 21.23009653 21.3838586\n",
      " 21.69138273 21.99890686 22.306431   28.61067572 40.91164103 47.06212368\n",
      " 21.23009653 21.3838586  21.69138273 21.99890686 22.306431   28.61067572\n",
      " 40.91164103 47.06212368 13.24193085 13.43883887 13.83265492 14.22647097\n",
      " 14.62028701 22.69351595 38.44615779 46.32247871 39.6154608  39.80777167\n",
      " 50.35942048]\n"
     ]
    }
   ],
   "source": [
    "θ = np.linalg.inv((np.transpose(A)@G@A))@(np.transpose(A)@G@B+f)\n",
    "\n",
    "θ_deg = θ-273.15\n",
    "print(θ_deg)"
   ]
  },
  {
   "cell_type": "code",
   "execution_count": 187,
   "id": "941e6787",
   "metadata": {},
   "outputs": [
    {
     "name": "stdout",
     "output_type": "stream",
     "text": [
      "[(7, 15), (7, 23), (7, 31), (7, 39), (7, 41), (15, 23), (15, 31), (15, 39), (15, 41), (23, 31), (23, 39), (23, 41), (31, 39), (31, 41), (39, 41)]\n"
     ]
    }
   ],
   "source": [
    "print(central_com)"
   ]
  },
  {
   "cell_type": "code",
   "execution_count": 188,
   "id": "729df069",
   "metadata": {},
   "outputs": [
    {
     "name": "stdout",
     "output_type": "stream",
     "text": [
      "[20.9629027  21.08326553 21.32399121 21.56471688 21.80544256 26.74031888\n",
      " 36.36934586 41.18385935 20.9629027  21.08326553 21.32399121 21.56471688\n",
      " 21.80544256 26.74031888 36.36934586 41.18385935 20.9629027  21.08326553\n",
      " 21.32399121 21.56471688 21.80544256 26.74031888 36.36934586 41.18385935\n",
      " 20.9629027  21.08326553 21.32399121 21.56471688 21.80544256 26.74031888\n",
      " 36.36934586 41.18385935 13.00829022 13.17599317 13.51139906 13.84680495\n",
      " 14.18221084 21.05803157 34.47426716 41.18238495 40.91787676 41.16445496\n",
      " 45.81000918]\n"
     ]
    },
    {
     "data": {
      "image/png": "[encoded data removed]",
      "text/plain": [
       "<Figure size 432x288 with 1 Axes>"
      ]
     },
     "metadata": {
      "needs_background": "light"
     },
     "output_type": "display_data"
    }
   ],
   "source": [
    "detail = {7:ɛ_i,15:ɛ_i,23:ɛ_i,31:ɛ_i,39:ɛ_i,41:ɛ_v}\n",
    "\n",
    "\n",
    "\n",
    "tol = 0.0001\n",
    "\n",
    "dif = 1\n",
    "\n",
    "θ = np.ones(43)*20\n",
    "\n",
    "it = 1\n",
    "\n",
    "liste_dif = []\n",
    "compteur = []\n",
    "\n",
    "while dif > tol :\n",
    "    \n",
    "    dif = 0\n",
    "    \n",
    "    R_ray = []\n",
    "    for a,b in central_com:\n",
    "        R_ray.append((1-detail[a])/(detail[a]*4*σ*((θ[a]+θ[b])/2)**4*S_paroi)+(1/(4*σ*((θ[a]+θ[b])/2)**4*S_paroi*0.2))+(1-detail[b])/(detail[b]*4*σ*((θ[a]+θ[b])/2)**4*S_paroi))\n",
    "    for i in range (len(R_ray)):\n",
    "        G[48+i,48+i] = R_ray[i]**(-1)\n",
    "    θ_prev = θ\n",
    "    θ = np.linalg.inv((np.transpose(A)@G@A))@(np.transpose(A)@G@B+f)\n",
    "    \n",
    "    for i in range(len(θ)):\n",
    "        dif += abs(θ[i]-θ_prev[i])\n",
    "    liste_dif.append(dif)\n",
    "    compteur.append(it)\n",
    "    it += 1\n",
    "\n",
    "print(θ-273.15)\n",
    "\n",
    "import matplotlib.pyplot as plt\n",
    "\n",
    "\n",
    "# Tracer le graphique\n",
    "plt.plot(compteur, liste_dif, marker='o', linestyle='-')\n",
    "plt.title(\"Évolution des différences en fonction des itérations\")\n",
    "plt.xlabel(\"Itérations\")\n",
    "plt.ylabel(\"Différences en °C\")\n",
    "plt.grid(True)\n",
    "plt.show()\n",
    "\n"
   ]
  },
  {
   "cell_type": "code",
   "execution_count": 189,
   "id": "fd42ba11",
   "metadata": {
    "scrolled": true
   },
   "outputs": [
    {
     "data": {
      "image/png": "[encoded data removed]",
      "text/plain": [
       "<Figure size 1440x1800 with 5 Axes>"
      ]
     },
     "metadata": {
      "needs_background": "light"
     },
     "output_type": "display_data"
    }
   ],
   "source": [
    "import matplotlib.pyplot as plt\n",
    "import numpy as np\n",
    "\n",
    "# Supposons que vous avez une liste θ représentant les températures\n",
    "# Répartissez les valeurs de θ en fonction de la structure des murs\n",
    "# Remplacez ces données factices par vos propres données\n",
    "\n",
    "# Exemple de données factices\n",
    "\n",
    "# Nombre de murs\n",
    "nombre_murs = 5\n",
    "\n",
    "# Nombre de valeurs de température par mur\n",
    "valeurs_par_mur = 8\n",
    "\n",
    "# Créer une figure avec des sous-graphiques pour chaque mur\n",
    "fig, axs = plt.subplots(nombre_murs, 1, figsize=(20, 25), sharex=True, sharey=True)\n",
    "\n",
    "x = [0,2.5,7.5,12.5,17.5,22,26,28]\n",
    "\n",
    "# Tracer un graphique pour chaque mur\n",
    "for i in range(nombre_murs):\n",
    "    debut = i * valeurs_par_mur\n",
    "    fin = (i + 1) * valeurs_par_mur\n",
    "    mur =  θ[debut:fin]\n",
    "\n",
    "    axs[i].plot(x,mur, label=f'Mur {i+1}', marker = 'o')\n",
    "    axs[i].set_title(f'Mur {i+1}')\n",
    "\n",
    "# Ajouter des légendes et des titres globaux\n",
    "fig.suptitle(\"Évolution de la température sur l'épaisseur de chaque mur\")\n",
    "fig.text(0.5, 0.04, \"Épaisseur du mur (en cm)\", ha='center', va='center')\n",
    "fig.text(0.06, 0.5, \"Température (en °C)\", ha='center', va='center', rotation='vertical')\n",
    "fig.tight_layout(rect=[0.1, 0.1, 0.9, 0.9])\n",
    "plt.show()"
   ]
  },
  {
   "cell_type": "markdown",
   "id": "c23437fd",
   "metadata": {},
   "source": [
    "## Tentative temporelle"
   ]
  },
  {
   "cell_type": "code",
   "execution_count": 152,
   "id": "a85ebce8",
   "metadata": {
    "scrolled": true
   },
   "outputs": [
    {
     "name": "stdout",
     "output_type": "stream",
     "text": [
      "<class 'pandas.core.frame.DataFrame'>\n"
     ]
    }
   ],
   "source": [
    "import pandas as pd\n",
    "\n",
    "input_data_set = pd.read_csv('input_data_set.csv',\n",
    "                             index_col=0,\n",
    "                             parse_dates=True)\n",
    "\n",
    "\n",
    "\n",
    "\n",
    "print(type(input_data_set))"
   ]
  },
  {
   "cell_type": "code",
   "execution_count": 153,
   "id": "7fec1245",
   "metadata": {},
   "outputs": [
    {
     "ename": "NameError",
     "evalue": "name 'As' is not defined",
     "output_type": "error",
     "traceback": [
      "\u001b[1;31m---------------------------------------------------------------------------\u001b[0m",
      "\u001b[1;31mNameError\u001b[0m                                 Traceback (most recent call last)",
      "\u001b[1;32m~\\AppData\\Local\\Temp/ipykernel_24168/977383043.py\u001b[0m in \u001b[0;36m<module>\u001b[1;34m\u001b[0m\n\u001b[1;32m----> 1\u001b[1;33m \u001b[0mλ\u001b[0m \u001b[1;33m=\u001b[0m \u001b[0mnp\u001b[0m\u001b[1;33m.\u001b[0m\u001b[0mlinalg\u001b[0m\u001b[1;33m.\u001b[0m\u001b[0meig\u001b[0m\u001b[1;33m(\u001b[0m\u001b[0mAs\u001b[0m\u001b[1;33m)\u001b[0m\u001b[1;33m[\u001b[0m\u001b[1;36m0\u001b[0m\u001b[1;33m]\u001b[0m    \u001b[1;31m# eigenvalues of matrix As\u001b[0m\u001b[1;33m\u001b[0m\u001b[1;33m\u001b[0m\u001b[0m\n\u001b[0m\u001b[0;32m      2\u001b[0m \u001b[0mdtmax\u001b[0m \u001b[1;33m=\u001b[0m \u001b[1;36m2\u001b[0m \u001b[1;33m*\u001b[0m \u001b[0mmin\u001b[0m\u001b[1;33m(\u001b[0m\u001b[1;33m-\u001b[0m\u001b[1;36m1.\u001b[0m \u001b[1;33m/\u001b[0m \u001b[0mλ\u001b[0m\u001b[1;33m)\u001b[0m    \u001b[1;31m# max time step for Euler explicit stability\u001b[0m\u001b[1;33m\u001b[0m\u001b[1;33m\u001b[0m\u001b[0m\n\u001b[0;32m      3\u001b[0m \u001b[0mdt\u001b[0m \u001b[1;33m=\u001b[0m \u001b[0mdm4bem\u001b[0m\u001b[1;33m.\u001b[0m\u001b[0mround_time\u001b[0m\u001b[1;33m(\u001b[0m\u001b[0mdtmax\u001b[0m\u001b[1;33m)\u001b[0m\u001b[1;33m\u001b[0m\u001b[1;33m\u001b[0m\u001b[0m\n\u001b[0;32m      4\u001b[0m \u001b[1;33m\u001b[0m\u001b[0m\n\u001b[0;32m      5\u001b[0m \u001b[1;32mif\u001b[0m \u001b[0mimposed_time_step\u001b[0m\u001b[1;33m:\u001b[0m\u001b[1;33m\u001b[0m\u001b[1;33m\u001b[0m\u001b[0m\n",
      "\u001b[1;31mNameError\u001b[0m: name 'As' is not defined"
     ]
    }
   ],
   "source": [
    "λ = np.linalg.eig(As)[0]    # eigenvalues of matrix As\n",
    "dtmax = 2 * min(-1. / λ)    # max time step for Euler explicit stability\n",
    "dt = dm4bem.round_time(dtmax)\n",
    "\n",
    "if imposed_time_step:\n",
    "    dt = Δt\n",
    "\n",
    "dm4bem.print_rounded_time('dt', dt)"
   ]
  },
  {
   "cell_type": "code",
   "execution_count": null,
   "id": "8ee2bbb4",
   "metadata": {},
   "outputs": [],
   "source": []
  }
 ],
 "metadata": {
  "kernelspec": {
   "display_name": "Python 3 (ipykernel)",
   "language": "python",
   "name": "python3"
  },
  "language_info": {
   "codemirror_mode": {
    "name": "ipython",
    "version": 3
   },
   "file_extension": ".py",
   "mimetype": "text/x-python",
   "name": "python",
   "nbconvert_exporter": "python",
   "pygments_lexer": "ipython3",
   "version": "3.9.7"
  }
 },
 "nbformat": 4,
 "nbformat_minor": 5
}
